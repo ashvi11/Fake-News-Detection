{
 "cells": [
  {
   "cell_type": "code",
   "execution_count": 1,
   "metadata": {},
   "outputs": [
    {
     "name": "stderr",
     "output_type": "stream",
     "text": [
      "[nltk_data] Downloading package averaged_perceptron_tagger to\n",
      "[nltk_data]     /home/siva/nltk_data...\n",
      "[nltk_data]   Package averaged_perceptron_tagger is already up-to-\n",
      "[nltk_data]       date!\n"
     ]
    }
   ],
   "source": [
    "import data_preprocessing\n",
    "from data_preprocessing import*\n",
    "import seaborn as sns\n",
    "from mlxtend.evaluate import bias_variance_decomp\n",
    "from sklearn.naive_bayes import MultinomialNB\n",
    "from sklearn.naive_bayes import GaussianNB \n",
    "\n",
    "trainPath='/home/siva/Desktop/ml/liar_dataset/train.tsv'\n",
    "testPath='/home/siva/Desktop/ml/liar_dataset/test.tsv'\n",
    "validationPath='/home/siva/Desktop/ml/liar_dataset/valid.tsv'\n",
    "\n",
    "train,y,test,testY,val,valY=data_preprocess(trainPath,testPath,validationPath,pred=\"single\")"
   ]
  },
  {
   "cell_type": "code",
   "execution_count": 2,
   "metadata": {},
   "outputs": [
    {
     "name": "stderr",
     "output_type": "stream",
     "text": [
      "/home/siva/anaconda3/envs/ml/lib/python3.7/site-packages/ipykernel/ipkernel.py:287: DeprecationWarning: `should_run_async` will not call `transform_cell` automatically in the future. Please pass the result to `transformed_cell` argument and any exception that happen during thetransform in `preprocessing_exc_tuple` in IPython 7.17 and above.\n",
      "  and should_run_async(code)\n"
     ]
    },
    {
     "name": "stdout",
     "output_type": "stream",
     "text": [
      "Accuracy : 0.7971864009378663\n",
      "              precision    recall  f1-score   support\n",
      "\n",
      "           0       0.80      1.00      0.89       680\n",
      "           1       0.00      0.00      0.00       173\n",
      "\n",
      "    accuracy                           0.80       853\n",
      "   macro avg       0.40      0.50      0.44       853\n",
      "weighted avg       0.64      0.80      0.71       853\n",
      "\n"
     ]
    },
    {
     "name": "stderr",
     "output_type": "stream",
     "text": [
      "/home/siva/anaconda3/envs/ml/lib/python3.7/site-packages/sklearn/metrics/_classification.py:1221: UndefinedMetricWarning: Precision and F-score are ill-defined and being set to 0.0 in labels with no predicted samples. Use `zero_division` parameter to control this behavior.\n",
      "  _warn_prf(average, modifier, msg_start, len(result))\n"
     ]
    },
    {
     "name": "stdout",
     "output_type": "stream",
     "text": [
      "MSE : 0.20281359906213361\n",
      "Bias : 0.2028019343493552\n",
      "Variance : 1.1664712778429074e-05\n",
      "======Confusion Matrix======\n",
      "\n",
      " [[680   0]\n",
      " [173   0]]\n"
     ]
    },
    {
     "data": {
      "image/png": "[encoded data removed]",
      "text/plain": [
       "<Figure size 432x288 with 2 Axes>"
      ]
     },
     "metadata": {
      "needs_background": "light"
     },
     "output_type": "display_data"
    },
    {
     "data": {
      "text/plain": [
       "MultinomialNB()"
      ]
     },
     "execution_count": 2,
     "metadata": {},
     "output_type": "execute_result"
    }
   ],
   "source": [
    "\n",
    "get_accuracy_with_confusion_matrix(train,y,test,testY,TfidfVectorizer(ngram_range=(1,2),binary=True,max_features=300),MultinomialNB(),nump=True)"
   ]
  },
  {
   "cell_type": "code",
   "execution_count": 3,
   "metadata": {},
   "outputs": [
    {
     "name": "stderr",
     "output_type": "stream",
     "text": [
      "/home/siva/anaconda3/envs/ml/lib/python3.7/site-packages/ipykernel/ipkernel.py:287: DeprecationWarning: `should_run_async` will not call `transform_cell` automatically in the future. Please pass the result to `transformed_cell` argument and any exception that happen during thetransform in `preprocessing_exc_tuple` in IPython 7.17 and above.\n",
      "  and should_run_async(code)\n"
     ]
    },
    {
     "name": "stdout",
     "output_type": "stream",
     "text": [
      "Accuracy : 0.5697538100820633\n",
      "              precision    recall  f1-score   support\n",
      "\n",
      "           0       0.81      0.60      0.69       680\n",
      "           1       0.22      0.45      0.30       173\n",
      "\n",
      "    accuracy                           0.57       853\n",
      "   macro avg       0.52      0.53      0.49       853\n",
      "weighted avg       0.69      0.57      0.61       853\n",
      "\n",
      "MSE : 0.4194841735052755\n",
      "Bias : 0.29060545134818283\n",
      "Variance : 0.12887872215709262\n",
      "======Confusion Matrix======\n",
      "\n",
      " [[408 272]\n",
      " [ 95  78]]\n"
     ]
    },
    {
     "data": {
      "image/png": "[encoded data removed]",
      "text/plain": [
       "<Figure size 432x288 with 2 Axes>"
      ]
     },
     "metadata": {
      "needs_background": "light"
     },
     "output_type": "display_data"
    },
    {
     "data": {
      "text/plain": [
       "GaussianNB()"
      ]
     },
     "execution_count": 3,
     "metadata": {},
     "output_type": "execute_result"
    }
   ],
   "source": [
    "\n",
    "get_accuracy_with_confusion_matrix(train,y,test,testY,TfidfVectorizer(ngram_range=(1,2),binary=True,max_features=300),GaussianNB(),nump=True)"
   ]
  },
  {
   "cell_type": "code",
   "execution_count": 4,
   "metadata": {},
   "outputs": [
    {
     "name": "stderr",
     "output_type": "stream",
     "text": [
      "/home/siva/anaconda3/envs/ml/lib/python3.7/site-packages/ipykernel/ipkernel.py:287: DeprecationWarning: `should_run_async` will not call `transform_cell` automatically in the future. Please pass the result to `transformed_cell` argument and any exception that happen during thetransform in `preprocessing_exc_tuple` in IPython 7.17 and above.\n",
      "  and should_run_async(code)\n"
     ]
    },
    {
     "name": "stdout",
     "output_type": "stream",
     "text": [
      "Accuracy : 0.776084407971864\n",
      "              precision    recall  f1-score   support\n",
      "\n",
      "           0       0.81      0.94      0.87       680\n",
      "           1       0.34      0.12      0.17       173\n",
      "\n",
      "    accuracy                           0.78       853\n",
      "   macro avg       0.58      0.53      0.52       853\n",
      "weighted avg       0.71      0.78      0.73       853\n",
      "\n",
      "MSE : 0.23848769050410318\n",
      "Bias : 0.1883283118405627\n",
      "Variance : 0.05015937866354045\n",
      "======Confusion Matrix======\n",
      "\n",
      " [[642  38]\n",
      " [153  20]]\n"
     ]
    },
    {
     "data": {
      "image/png": "[encoded data removed]",
      "text/plain": [
       "<Figure size 432x288 with 2 Axes>"
      ]
     },
     "metadata": {
      "needs_background": "light"
     },
     "output_type": "display_data"
    },
    {
     "data": {
      "text/plain": [
       "MultinomialNB()"
      ]
     },
     "execution_count": 4,
     "metadata": {},
     "output_type": "execute_result"
    }
   ],
   "source": [
    "get_accuracy_with_confusion_matrix(train,y,test,testY,CountVectorizer(ngram_range=(1,2),binary=True,max_features=300),MultinomialNB(),nump=True)"
   ]
  },
  {
   "cell_type": "code",
   "execution_count": 5,
   "metadata": {},
   "outputs": [
    {
     "name": "stderr",
     "output_type": "stream",
     "text": [
      "/home/siva/anaconda3/envs/ml/lib/python3.7/site-packages/ipykernel/ipkernel.py:287: DeprecationWarning: `should_run_async` will not call `transform_cell` automatically in the future. Please pass the result to `transformed_cell` argument and any exception that happen during thetransform in `preprocessing_exc_tuple` in IPython 7.17 and above.\n",
      "  and should_run_async(code)\n"
     ]
    },
    {
     "name": "stdout",
     "output_type": "stream",
     "text": [
      "Accuracy : 0.5134818288393904\n",
      "              precision    recall  f1-score   support\n",
      "\n",
      "           0       0.82      0.50      0.62       680\n",
      "           1       0.22      0.55      0.32       173\n",
      "\n",
      "    accuracy                           0.51       853\n",
      "   macro avg       0.52      0.53      0.47       853\n",
      "weighted avg       0.70      0.51      0.56       853\n",
      "\n",
      "MSE : 0.45609026963657684\n",
      "Bias : 0.3202726553341149\n",
      "Variance : 0.13581761430246192\n",
      "======Confusion Matrix======\n",
      "\n",
      " [[342 338]\n",
      " [ 77  96]]\n"
     ]
    },
    {
     "data": {
      "image/png": "[encoded data removed]",
      "text/plain": [
       "<Figure size 432x288 with 2 Axes>"
      ]
     },
     "metadata": {
      "needs_background": "light"
     },
     "output_type": "display_data"
    },
    {
     "data": {
      "text/plain": [
       "GaussianNB()"
      ]
     },
     "execution_count": 5,
     "metadata": {},
     "output_type": "execute_result"
    }
   ],
   "source": [
    "\n",
    "get_accuracy_with_confusion_matrix(train,y,test,testY,CountVectorizer(ngram_range=(1,2),binary=True,max_features=300),GaussianNB(),nump=True)"
   ]
  },
  {
   "cell_type": "code",
   "execution_count": 8,
   "metadata": {},
   "outputs": [
    {
     "name": "stderr",
     "output_type": "stream",
     "text": [
      "/home/siva/anaconda3/envs/ml/lib/python3.7/site-packages/ipykernel/ipkernel.py:287: DeprecationWarning: `should_run_async` will not call `transform_cell` automatically in the future. Please pass the result to `transformed_cell` argument and any exception that happen during thetransform in `preprocessing_exc_tuple` in IPython 7.17 and above.\n",
      "  and should_run_async(code)\n"
     ]
    },
    {
     "name": "stdout",
     "output_type": "stream",
     "text": [
      "Accuracy : 0.5650644783118406\n",
      "              precision    recall  f1-score   support\n",
      "\n",
      "           0       0.82      0.59      0.68       680\n",
      "           1       0.23      0.48      0.31       173\n",
      "\n",
      "    accuracy                           0.57       853\n",
      "   macro avg       0.52      0.53      0.50       853\n",
      "weighted avg       0.70      0.57      0.61       853\n",
      "\n",
      "MSE : 0.4121277842907386\n",
      "Bias : 0.2888976260257914\n",
      "Variance : 0.12323015826494724\n",
      "======Confusion Matrix======\n",
      "\n",
      " [[399 281]\n",
      " [ 90  83]]\n"
     ]
    },
    {
     "data": {
      "image/png": "[encoded data removed]",
      "text/plain": [
       "<Figure size 432x288 with 2 Axes>"
      ]
     },
     "metadata": {
      "needs_background": "light"
     },
     "output_type": "display_data"
    },
    {
     "data": {
      "text/plain": [
       "GaussianNB()"
      ]
     },
     "execution_count": 8,
     "metadata": {},
     "output_type": "execute_result"
    }
   ],
   "source": [
    "####################################sentiment with words######################################\n",
    "#sentiment with appending words\n",
    "train,y,test,testY,val,valY=data_preprocess(trainPath,testPath,validationPath,pred=\"single\")\n",
    "train,test,val=append_senti_to_sent(train,test,val)\n",
    "get_accuracy_with_confusion_matrix(train,y,test,testY,CountVectorizer(ngram_range=(1,2),binary=True,max_features=300),GaussianNB(),nump=True)"
   ]
  },
  {
   "cell_type": "code",
   "execution_count": 9,
   "metadata": {},
   "outputs": [
    {
     "name": "stderr",
     "output_type": "stream",
     "text": [
      "/home/siva/anaconda3/envs/ml/lib/python3.7/site-packages/ipykernel/ipkernel.py:287: DeprecationWarning: `should_run_async` will not call `transform_cell` automatically in the future. Please pass the result to `transformed_cell` argument and any exception that happen during thetransform in `preprocessing_exc_tuple` in IPython 7.17 and above.\n",
      "  and should_run_async(code)\n"
     ]
    },
    {
     "name": "stdout",
     "output_type": "stream",
     "text": [
      "Accuracy : 0.7807737397420867\n",
      "              precision    recall  f1-score   support\n",
      "\n",
      "           0       0.81      0.95      0.87       680\n",
      "           1       0.35      0.10      0.15       173\n",
      "\n",
      "    accuracy                           0.78       853\n",
      "   macro avg       0.58      0.53      0.51       853\n",
      "weighted avg       0.71      0.78      0.73       853\n",
      "\n",
      "MSE : 0.2385052754982415\n",
      "Bias : 0.1925125146541618\n",
      "Variance : 0.04599276084407973\n",
      "======Confusion Matrix======\n",
      "\n",
      " [[649  31]\n",
      " [156  17]]\n"
     ]
    },
    {
     "data": {
      "image/png": "[encoded data removed]",
      "text/plain": [
       "<Figure size 432x288 with 2 Axes>"
      ]
     },
     "metadata": {
      "needs_background": "light"
     },
     "output_type": "display_data"
    },
    {
     "data": {
      "text/plain": [
       "MultinomialNB()"
      ]
     },
     "execution_count": 9,
     "metadata": {},
     "output_type": "execute_result"
    }
   ],
   "source": [
    "get_accuracy_with_confusion_matrix(train,y,test,testY,CountVectorizer(ngram_range=(1,2),binary=True,max_features=300),MultinomialNB(),nump=True)"
   ]
  },
  {
   "cell_type": "code",
   "execution_count": 11,
   "metadata": {},
   "outputs": [
    {
     "name": "stderr",
     "output_type": "stream",
     "text": [
      "/home/siva/anaconda3/envs/ml/lib/python3.7/site-packages/ipykernel/ipkernel.py:287: DeprecationWarning: `should_run_async` will not call `transform_cell` automatically in the future. Please pass the result to `transformed_cell` argument and any exception that happen during thetransform in `preprocessing_exc_tuple` in IPython 7.17 and above.\n",
      "  and should_run_async(code)\n"
     ]
    },
    {
     "name": "stdout",
     "output_type": "stream",
     "text": [
      "Accuracy : 0.5978898007033998\n",
      "              precision    recall  f1-score   support\n",
      "\n",
      "           0       0.82      0.63      0.72       680\n",
      "           1       0.24      0.46      0.32       173\n",
      "\n",
      "    accuracy                           0.60       853\n",
      "   macro avg       0.53      0.55      0.52       853\n",
      "weighted avg       0.70      0.60      0.63       853\n",
      "\n",
      "MSE : 0.3954161781946073\n",
      "Bias : 0.2726012309495897\n",
      "Variance : 0.12281494724501758\n",
      "======Confusion Matrix======\n",
      "\n",
      " [[431 249]\n",
      " [ 94  79]]\n"
     ]
    },
    {
     "data": {
      "image/png": "[encoded data removed]",
      "text/plain": [
       "<Figure size 432x288 with 2 Axes>"
      ]
     },
     "metadata": {
      "needs_background": "light"
     },
     "output_type": "display_data"
    },
    {
     "data": {
      "text/plain": [
       "GaussianNB()"
      ]
     },
     "execution_count": 11,
     "metadata": {},
     "output_type": "execute_result"
    }
   ],
   "source": [
    "\n",
    "get_accuracy_with_confusion_matrix(train,y,test,testY,TfidfVectorizer(ngram_range=(1,2),binary=True,max_features=300),GaussianNB(),nump=True)"
   ]
  },
  {
   "cell_type": "code",
   "execution_count": 14,
   "metadata": {},
   "outputs": [
    {
     "name": "stderr",
     "output_type": "stream",
     "text": [
      "/home/siva/anaconda3/envs/ml/lib/python3.7/site-packages/ipykernel/ipkernel.py:287: DeprecationWarning: `should_run_async` will not call `transform_cell` automatically in the future. Please pass the result to `transformed_cell` argument and any exception that happen during thetransform in `preprocessing_exc_tuple` in IPython 7.17 and above.\n",
      "  and should_run_async(code)\n"
     ]
    },
    {
     "name": "stdout",
     "output_type": "stream",
     "text": [
      "Accuracy : 0.511137162954279\n",
      "              precision    recall  f1-score   support\n",
      "\n",
      "           0       0.81      0.50      0.62       680\n",
      "           1       0.22      0.55      0.31       173\n",
      "\n",
      "    accuracy                           0.51       853\n",
      "   macro avg       0.52      0.53      0.47       853\n",
      "weighted avg       0.69      0.51      0.56       853\n",
      "\n",
      "MSE : 0.45596131301289566\n",
      "Bias : 0.32015090855803047\n",
      "Variance : 0.13581040445486517\n",
      "======Confusion Matrix======\n",
      "\n",
      " [[341 339]\n",
      " [ 78  95]]\n"
     ]
    },
    {
     "data": {
      "image/png": "[encoded data removed]",
      "text/plain": [
       "<Figure size 432x288 with 2 Axes>"
      ]
     },
     "metadata": {
      "needs_background": "light"
     },
     "output_type": "display_data"
    },
    {
     "data": {
      "text/plain": [
       "GaussianNB()"
      ]
     },
     "execution_count": 14,
     "metadata": {},
     "output_type": "execute_result"
    }
   ],
   "source": [
    "########################################sentiment with vector ######################\n",
    "train,y,test,testY,val,valY=data_preprocess(trainPath,testPath,validationPath,pred=\"single\")\n",
    "get_accuracy_with_confusion_matrix(train,y,test,testY,CountVectorizer(ngram_range=(1,2),binary=True,max_features=300),GaussianNB(),nump=True,senti=\"add\")"
   ]
  },
  {
   "cell_type": "code",
   "execution_count": null,
   "metadata": {},
   "outputs": [],
   "source": []
  }
 ],
 "metadata": {
  "kernelspec": {
   "display_name": "Python 3",
   "language": "python",
   "name": "python3"
  },
  "language_info": {
   "codemirror_mode": {
    "name": "ipython",
    "version": 3
   },
   "file_extension": ".py",
   "mimetype": "text/x-python",
   "name": "python",
   "nbconvert_exporter": "python",
   "pygments_lexer": "ipython3",
   "version": "3.7.6"
  }
 },
 "nbformat": 4,
 "nbformat_minor": 4
}
