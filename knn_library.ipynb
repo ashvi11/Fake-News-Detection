{
 "cells": [
  {
   "cell_type": "code",
   "execution_count": 1,
   "metadata": {
    "scrolled": true
   },
   "outputs": [
    {
     "name": "stderr",
     "output_type": "stream",
     "text": [
      "[nltk_data] Downloading package averaged_perceptron_tagger to\n",
      "[nltk_data]     /home/siva/nltk_data...\n",
      "[nltk_data]   Package averaged_perceptron_tagger is already up-to-\n",
      "[nltk_data]       date!\n"
     ]
    }
   ],
   "source": [
    "import data_preprocessing\n",
    "from data_preprocessing import*\n",
    "\n",
    "trainPath='/home/siva/Desktop/ml/liar_dataset/train.tsv'\n",
    "testPath='/home/siva/Desktop/ml/liar_dataset/test.tsv'\n",
    "validationPath='/home/siva/Desktop/ml/liar_dataset/valid.tsv'\n",
    "\n",
    "train,y,test,testY,val,valY=data_preprocess(trainPath,testPath,validationPath,pred=\"single\")"
   ]
  },
  {
   "cell_type": "code",
   "execution_count": 2,
   "metadata": {
    "scrolled": false
   },
   "outputs": [
    {
     "name": "stderr",
     "output_type": "stream",
     "text": [
      "/home/siva/anaconda3/envs/ml/lib/python3.7/site-packages/ipykernel/ipkernel.py:287: DeprecationWarning: `should_run_async` will not call `transform_cell` automatically in the future. Please pass the result to `transformed_cell` argument and any exception that happen during thetransform in `preprocessing_exc_tuple` in IPython 7.17 and above.\n",
      "  and should_run_async(code)\n"
     ]
    }
   ],
   "source": [
    "from sklearn.neighbors import KNeighborsClassifier\n",
    "from sklearn.feature_extraction.text import CountVectorizer, TfidfVectorizer\n",
    "\n",
    "#finding the optimal k value using tfidf vectors \n",
    "def optimal_k_tfidf(train, y, test, testY, mf, ngram_max):\n",
    "    max_val = 0\n",
    "    opt_k = 0\n",
    "    accuracies = []\n",
    "    for i in range(1, 30):\n",
    "        knn = KNeighborsClassifier(n_neighbors=i)\n",
    "        knn_acc = get_accuracies(train,y,test,testY,TfidfVectorizer(max_features=mf, ngram_range=(1,ngram_max)),knn,show_coefficients=False)\n",
    "\n",
    "        if knn_acc[1] > max_val:\n",
    "            max_val = knn_acc[1]\n",
    "            opt_k = i \n",
    "        accuracies.append(knn_acc[1])\n",
    "    return opt_k, max_val\n",
    "\n",
    "#finding the optimal k value using count vectors \n",
    "def optimal_k_count(train, y, test, testY, mf, ngram_max):\n",
    "    max_val = 0\n",
    "    opt_k = 0\n",
    "    accuracies = []\n",
    "    for i in range(1, 30):\n",
    "        knn = KNeighborsClassifier(n_neighbors=i)\n",
    "        knn_acc = get_accuracies(train,y,test,testY,CountVectorizer(max_features=mf, ngram_range=(1,ngram_max)),knn,show_coefficients=False)\n",
    "\n",
    "        if knn_acc[1] > max_val:\n",
    "            max_val = knn_acc[1]\n",
    "            opt_k = i \n",
    "        accuracies.append(knn_acc[1])\n",
    "    return opt_k, max_val\n",
    "#     return opt_k, max_val, accuracies\n",
    "\n",
    "\n"
   ]
  },
  {
   "cell_type": "code",
   "execution_count": 3,
   "metadata": {},
   "outputs": [
    {
     "name": "stderr",
     "output_type": "stream",
     "text": [
      "/home/siva/anaconda3/envs/ml/lib/python3.7/site-packages/ipykernel/ipkernel.py:287: DeprecationWarning: `should_run_async` will not call `transform_cell` automatically in the future. Please pass the result to `transformed_cell` argument and any exception that happen during thetransform in `preprocessing_exc_tuple` in IPython 7.17 and above.\n",
      "  and should_run_async(code)\n"
     ]
    },
    {
     "name": "stdout",
     "output_type": "stream",
     "text": [
      "[[24, 18, 18, 4, 16, 6, 4], [14, 12, 6, 20, 4, 2, 2], [18, 6, 6, 6, 6, 4, 2]]\n"
     ]
    }
   ],
   "source": [
    "optimal_tfidf = []\n",
    "for n in range(1, 4):\n",
    "    ks = []\n",
    "    for f in range(100, 401, 50):\n",
    "        k, acc = optimal_k_tfidf(train, y, test, testY, f, n)\n",
    "        ks.append(k)\n",
    "    optimal_tfidf.append(ks)\n",
    "print(optimal_tfidf)"
   ]
  },
  {
   "cell_type": "code",
   "execution_count": 4,
   "metadata": {},
   "outputs": [
    {
     "name": "stderr",
     "output_type": "stream",
     "text": [
      "/home/siva/anaconda3/envs/ml/lib/python3.7/site-packages/ipykernel/ipkernel.py:287: DeprecationWarning: `should_run_async` will not call `transform_cell` automatically in the future. Please pass the result to `transformed_cell` argument and any exception that happen during thetransform in `preprocessing_exc_tuple` in IPython 7.17 and above.\n",
      "  and should_run_async(code)\n"
     ]
    },
    {
     "name": "stdout",
     "output_type": "stream",
     "text": [
      "[[7, 10, 14, 6, 2, 9, 2], [15, 9, 8, 18, 10, 8, 12], [12, 18, 15, 6, 9, 4, 4]]\n"
     ]
    }
   ],
   "source": [
    "optimal_cnt = []\n",
    "for n in range(1, 4):\n",
    "    ks = []\n",
    "    for f in range(100, 401, 50):\n",
    "        k, acc = optimal_k_count(train, y, test, testY, f, n)\n",
    "        ks.append(k)\n",
    "    optimal_cnt.append(ks)\n",
    "print(optimal_cnt)"
   ]
  },
  {
   "cell_type": "code",
   "execution_count": 5,
   "metadata": {},
   "outputs": [
    {
     "name": "stderr",
     "output_type": "stream",
     "text": [
      "/home/siva/anaconda3/envs/ml/lib/python3.7/site-packages/ipykernel/ipkernel.py:287: DeprecationWarning: `should_run_async` will not call `transform_cell` automatically in the future. Please pass the result to `transformed_cell` argument and any exception that happen during thetransform in `preprocessing_exc_tuple` in IPython 7.17 and above.\n",
      "  and should_run_async(code)\n"
     ]
    },
    {
     "data": {
      "text/plain": [
       "Text(0, 0.5, 'Optimal K Values')"
      ]
     },
     "execution_count": 5,
     "metadata": {},
     "output_type": "execute_result"
    },
    {
     "data": {
      "image/png": "[encoded data removed]",
      "text/plain": [
       "<Figure size 432x288 with 1 Axes>"
      ]
     },
     "metadata": {
      "needs_background": "light"
     },
     "output_type": "display_data"
    }
   ],
   "source": [
    "import numpy as np\n",
    "import matplotlib.pyplot as plt\n",
    "\n",
    "data = optimal_tfidf\n",
    "\n",
    "X = np.arange(7)\n",
    "fig = plt.figure()\n",
    "ax = fig.add_axes([0,0,1,1])\n",
    "n1 = ax.bar(X + 0.00, data[0], color = 'midnightblue', width = 0.25)\n",
    "n2 = ax.bar(X + 0.25, data[1], color = 'steelblue', width = 0.25)\n",
    "n3 = ax.bar(X + 0.50, data[2], color = 'lightseagreen', width = 0.25)\n",
    "ax.set_xticks(X + 0.25)\n",
    "ax.set_xticklabels((100, 150, 200, 250, 300, 350, 400))\n",
    "ax.legend((n1,n2,n3), ('ngram(1,1)','ngram(1,2)','ngram(1,3)'))\n",
    "ax.set_xlabel('Number of Max Features')\n",
    "ax.set_ylabel('Optimal K Values')"
   ]
  },
  {
   "cell_type": "code",
   "execution_count": 6,
   "metadata": {},
   "outputs": [
    {
     "name": "stderr",
     "output_type": "stream",
     "text": [
      "/home/siva/anaconda3/envs/ml/lib/python3.7/site-packages/ipykernel/ipkernel.py:287: DeprecationWarning: `should_run_async` will not call `transform_cell` automatically in the future. Please pass the result to `transformed_cell` argument and any exception that happen during thetransform in `preprocessing_exc_tuple` in IPython 7.17 and above.\n",
      "  and should_run_async(code)\n"
     ]
    },
    {
     "data": {
      "text/plain": [
       "Text(0, 0.5, 'Optimal K Values')"
      ]
     },
     "execution_count": 6,
     "metadata": {},
     "output_type": "execute_result"
    },
    {
     "data": {
      "image/png": "[encoded data removed]",
      "text/plain": [
       "<Figure size 432x288 with 1 Axes>"
      ]
     },
     "metadata": {
      "needs_background": "light"
     },
     "output_type": "display_data"
    }
   ],
   "source": [
    "import numpy as np\n",
    "import matplotlib.pyplot as plt\n",
    "\n",
    "data = optimal_cnt\n",
    "\n",
    "X = np.arange(7)\n",
    "fig = plt.figure()\n",
    "ax = fig.add_axes([0,0,1,1])\n",
    "n1 = ax.bar(X + 0.00, data[0], color = 'midnightblue', width = 0.25)\n",
    "n2 = ax.bar(X + 0.25, data[1], color = 'steelblue', width = 0.25)\n",
    "n3 = ax.bar(X + 0.50, data[2], color = 'lightseagreen', width = 0.25)\n",
    "ax.set_xticks(X + 0.25)\n",
    "ax.set_xticklabels((100, 150, 200, 250, 300, 350, 400))\n",
    "ax.legend((n1,n2,n3), ('ngram(1,1)','ngram(1,2)','ngram(1,3)'))\n",
    "ax.set_xlabel('Number of Max Features')\n",
    "ax.set_ylabel('Optimal K Values')"
   ]
  },
  {
   "cell_type": "code",
   "execution_count": 7,
   "metadata": {},
   "outputs": [
    {
     "name": "stderr",
     "output_type": "stream",
     "text": [
      "/home/siva/anaconda3/envs/ml/lib/python3.7/site-packages/ipykernel/ipkernel.py:287: DeprecationWarning: `should_run_async` will not call `transform_cell` automatically in the future. Please pass the result to `transformed_cell` argument and any exception that happen during thetransform in `preprocessing_exc_tuple` in IPython 7.17 and above.\n",
      "  and should_run_async(code)\n"
     ]
    },
    {
     "name": "stdout",
     "output_type": "stream",
     "text": [
      "Accuracy : 0.798358733880422\n",
      "              precision    recall  f1-score   support\n",
      "\n",
      "           0       0.80      1.00      0.89       680\n",
      "           1       1.00      0.01      0.01       173\n",
      "\n",
      "    accuracy                           0.80       853\n",
      "   macro avg       0.90      0.50      0.45       853\n",
      "weighted avg       0.84      0.80      0.71       853\n",
      "\n",
      "MSE : 0.20866354044548652\n",
      "Bias : 0.20074718640093786\n",
      "Variance : 0.007916354044548652\n",
      "======Confusion Matrix======\n",
      "\n",
      " [[680   0]\n",
      " [172   1]]\n"
     ]
    },
    {
     "data": {
      "image/png": "[encoded data removed]",
      "text/plain": [
       "<Figure size 432x288 with 2 Axes>"
      ]
     },
     "metadata": {
      "needs_background": "light"
     },
     "output_type": "display_data"
    },
    {
     "data": {
      "text/plain": [
       "KNeighborsClassifier(n_neighbors=6)"
      ]
     },
     "execution_count": 7,
     "metadata": {},
     "output_type": "execute_result"
    }
   ],
   "source": [
    "get_accuracy_with_confusion_matrix(train,y,test,testY,TfidfVectorizer(ngram_range=(1,2),binary=True,max_features=200),KNeighborsClassifier(n_neighbors=6),nump=False)"
   ]
  },
  {
   "cell_type": "code",
   "execution_count": 8,
   "metadata": {},
   "outputs": [
    {
     "name": "stderr",
     "output_type": "stream",
     "text": [
      "/home/siva/anaconda3/envs/ml/lib/python3.7/site-packages/ipykernel/ipkernel.py:287: DeprecationWarning: `should_run_async` will not call `transform_cell` automatically in the future. Please pass the result to `transformed_cell` argument and any exception that happen during thetransform in `preprocessing_exc_tuple` in IPython 7.17 and above.\n",
      "  and should_run_async(code)\n"
     ]
    },
    {
     "name": "stdout",
     "output_type": "stream",
     "text": [
      "Accuracy : 0.7995310668229777\n",
      "              precision    recall  f1-score   support\n",
      "\n",
      "           0       0.80      1.00      0.89       680\n",
      "           1       1.00      0.01      0.02       173\n",
      "\n",
      "    accuracy                           0.80       853\n",
      "   macro avg       0.90      0.51      0.46       853\n",
      "weighted avg       0.84      0.80      0.71       853\n",
      "\n",
      "MSE : 0.207010550996483\n",
      "Bias : 0.1951082063305979\n",
      "Variance : 0.011902344665885111\n",
      "======Confusion Matrix======\n",
      "\n",
      " [[680   0]\n",
      " [171   2]]\n"
     ]
    },
    {
     "data": {
      "image/png": "[encoded data removed]",
      "text/plain": [
       "<Figure size 432x288 with 2 Axes>"
      ]
     },
     "metadata": {
      "needs_background": "light"
     },
     "output_type": "display_data"
    },
    {
     "data": {
      "text/plain": [
       "KNeighborsClassifier(n_neighbors=8)"
      ]
     },
     "execution_count": 8,
     "metadata": {},
     "output_type": "execute_result"
    }
   ],
   "source": [
    "get_accuracy_with_confusion_matrix(train,y,test,testY,CountVectorizer(ngram_range=(1,2),binary=True,max_features=200),KNeighborsClassifier(n_neighbors=8),nump=False)"
   ]
  },
  {
   "cell_type": "code",
   "execution_count": 9,
   "metadata": {},
   "outputs": [
    {
     "name": "stderr",
     "output_type": "stream",
     "text": [
      "/home/siva/anaconda3/envs/ml/lib/python3.7/site-packages/ipykernel/ipkernel.py:287: DeprecationWarning: `should_run_async` will not call `transform_cell` automatically in the future. Please pass the result to `transformed_cell` argument and any exception that happen during thetransform in `preprocessing_exc_tuple` in IPython 7.17 and above.\n",
      "  and should_run_async(code)\n"
     ]
    },
    {
     "name": "stdout",
     "output_type": "stream",
     "text": [
      "Accuracy : 0.7924970691676436\n",
      "              precision    recall  f1-score   support\n",
      "\n",
      "           0       0.80      0.99      0.88       680\n",
      "           1       0.00      0.00      0.00       173\n",
      "\n",
      "    accuracy                           0.79       853\n",
      "   macro avg       0.40      0.50      0.44       853\n",
      "weighted avg       0.63      0.79      0.70       853\n",
      "\n",
      "MSE : 0.21876905041031655\n",
      "Bias : 0.1928317116060961\n",
      "Variance : 0.0259373388042204\n",
      "======Confusion Matrix======\n",
      "\n",
      " [[676   4]\n",
      " [173   0]]\n"
     ]
    },
    {
     "data": {
      "image/png": "[encoded data removed]",
      "text/plain": [
       "<Figure size 432x288 with 2 Axes>"
      ]
     },
     "metadata": {
      "needs_background": "light"
     },
     "output_type": "display_data"
    },
    {
     "data": {
      "text/plain": [
       "KNeighborsClassifier(n_neighbors=8)"
      ]
     },
     "execution_count": 9,
     "metadata": {},
     "output_type": "execute_result"
    }
   ],
   "source": [
    "#Accuracy after adding sentiment to the sentence using positive and negative tags to KNN model using CountVectorizer\n",
    "train,y,test,testY,val,valY=data_preprocess(trainPath,testPath,validationPath,pred=\"single\")\n",
    "train,test,val=append_senti_to_sent(train,test,val)\n",
    "get_accuracy_with_confusion_matrix(train,y,test,testY,CountVectorizer(ngram_range=(1,2),binary=True,max_features=200),KNeighborsClassifier(n_neighbors=8),nump=False)"
   ]
  },
  {
   "cell_type": "code",
   "execution_count": 10,
   "metadata": {},
   "outputs": [
    {
     "name": "stderr",
     "output_type": "stream",
     "text": [
      "/home/siva/anaconda3/envs/ml/lib/python3.7/site-packages/ipykernel/ipkernel.py:287: DeprecationWarning: `should_run_async` will not call `transform_cell` automatically in the future. Please pass the result to `transformed_cell` argument and any exception that happen during thetransform in `preprocessing_exc_tuple` in IPython 7.17 and above.\n",
      "  and should_run_async(code)\n"
     ]
    },
    {
     "name": "stdout",
     "output_type": "stream",
     "text": [
      "Accuracy : 0.7924970691676436\n",
      "              precision    recall  f1-score   support\n",
      "\n",
      "           0       0.80      0.99      0.88       680\n",
      "           1       0.25      0.01      0.02       173\n",
      "\n",
      "    accuracy                           0.79       853\n",
      "   macro avg       0.52      0.50      0.45       853\n",
      "weighted avg       0.69      0.79      0.71       853\n",
      "\n",
      "MSE : 0.24091441969519342\n",
      "Bias : 0.19693563892145372\n",
      "Variance : 0.04397878077373975\n",
      "======Confusion Matrix======\n",
      "\n",
      " [[674   6]\n",
      " [171   2]]\n"
     ]
    },
    {
     "data": {
      "image/png": "[encoded data removed]",
      "text/plain": [
       "<Figure size 432x288 with 2 Axes>"
      ]
     },
     "metadata": {
      "needs_background": "light"
     },
     "output_type": "display_data"
    },
    {
     "data": {
      "text/plain": [
       "KNeighborsClassifier(n_neighbors=8)"
      ]
     },
     "execution_count": 10,
     "metadata": {},
     "output_type": "execute_result"
    }
   ],
   "source": [
    "#Accuracy after adding sentiment to the sentence using positive and negative tags to KNN model using TfidfVectorizer\n",
    "get_accuracy_with_confusion_matrix(train,y,test,testY,TfidfVectorizer(ngram_range=(1,2),binary=True,max_features=200),KNeighborsClassifier(n_neighbors=8),nump=False)"
   ]
  },
  {
   "cell_type": "code",
   "execution_count": 11,
   "metadata": {},
   "outputs": [
    {
     "name": "stderr",
     "output_type": "stream",
     "text": [
      "/home/siva/anaconda3/envs/ml/lib/python3.7/site-packages/ipykernel/ipkernel.py:287: DeprecationWarning: `should_run_async` will not call `transform_cell` automatically in the future. Please pass the result to `transformed_cell` argument and any exception that happen during thetransform in `preprocessing_exc_tuple` in IPython 7.17 and above.\n",
      "  and should_run_async(code)\n"
     ]
    },
    {
     "name": "stdout",
     "output_type": "stream",
     "text": [
      "Accuracy : 0.7971864009378663\n",
      "              precision    recall  f1-score   support\n",
      "\n",
      "           0       0.80      1.00      0.89       680\n",
      "           1       0.00      0.00      0.00       173\n",
      "\n",
      "    accuracy                           0.80       853\n",
      "   macro avg       0.40      0.50      0.44       853\n",
      "weighted avg       0.64      0.80      0.71       853\n",
      "\n"
     ]
    },
    {
     "name": "stderr",
     "output_type": "stream",
     "text": [
      "/home/siva/anaconda3/envs/ml/lib/python3.7/site-packages/sklearn/metrics/_classification.py:1221: UndefinedMetricWarning: Precision and F-score are ill-defined and being set to 0.0 in labels with no predicted samples. Use `zero_division` parameter to control this behavior.\n",
      "  _warn_prf(average, modifier, msg_start, len(result))\n"
     ]
    },
    {
     "name": "stdout",
     "output_type": "stream",
     "text": [
      "MSE : 0.2127491207502931\n",
      "Bias : 0.19736157678780775\n",
      "Variance : 0.015387543962485347\n",
      "======Confusion Matrix======\n",
      "\n",
      " [[680   0]\n",
      " [173   0]]\n"
     ]
    },
    {
     "data": {
      "image/png": "[encoded data removed]",
      "text/plain": [
       "<Figure size 432x288 with 2 Axes>"
      ]
     },
     "metadata": {
      "needs_background": "light"
     },
     "output_type": "display_data"
    },
    {
     "data": {
      "text/plain": [
       "KNeighborsClassifier(n_neighbors=8)"
      ]
     },
     "execution_count": 11,
     "metadata": {},
     "output_type": "execute_result"
    }
   ],
   "source": [
    "#Accuracy after adding sentiment as a feature to end of vector to KNN model using TfidfVectorizer\n",
    "train,y,test,testY,val,valY=data_preprocess(trainPath,testPath,validationPath,pred=\"single\")\n",
    "get_accuracy_with_confusion_matrix(train,y,test,testY,TfidfVectorizer(ngram_range=(1,2),binary=True,max_features=200),KNeighborsClassifier(n_neighbors=8),nump=True,senti=\"add\")"
   ]
  },
  {
   "cell_type": "code",
   "execution_count": 12,
   "metadata": {},
   "outputs": [
    {
     "name": "stderr",
     "output_type": "stream",
     "text": [
      "/home/siva/anaconda3/envs/ml/lib/python3.7/site-packages/ipykernel/ipkernel.py:287: DeprecationWarning: `should_run_async` will not call `transform_cell` automatically in the future. Please pass the result to `transformed_cell` argument and any exception that happen during thetransform in `preprocessing_exc_tuple` in IPython 7.17 and above.\n",
      "  and should_run_async(code)\n"
     ]
    },
    {
     "name": "stdout",
     "output_type": "stream",
     "text": [
      "Accuracy : 0.7971864009378663\n",
      "              precision    recall  f1-score   support\n",
      "\n",
      "           0       0.80      1.00      0.89       680\n",
      "           1       0.00      0.00      0.00       173\n",
      "\n",
      "    accuracy                           0.80       853\n",
      "   macro avg       0.40      0.50      0.44       853\n",
      "weighted avg       0.64      0.80      0.71       853\n",
      "\n"
     ]
    },
    {
     "name": "stderr",
     "output_type": "stream",
     "text": [
      "/home/siva/anaconda3/envs/ml/lib/python3.7/site-packages/sklearn/metrics/_classification.py:1221: UndefinedMetricWarning: Precision and F-score are ill-defined and being set to 0.0 in labels with no predicted samples. Use `zero_division` parameter to control this behavior.\n",
      "  _warn_prf(average, modifier, msg_start, len(result))\n"
     ]
    },
    {
     "name": "stdout",
     "output_type": "stream",
     "text": [
      "MSE : 0.20742086752637745\n",
      "Bias : 0.19541254396248534\n",
      "Variance : 0.012008323563892148\n",
      "======Confusion Matrix======\n",
      "\n",
      " [[680   0]\n",
      " [173   0]]\n"
     ]
    },
    {
     "data": {
      "image/png": "[encoded data removed]",
      "text/plain": [
       "<Figure size 432x288 with 2 Axes>"
      ]
     },
     "metadata": {
      "needs_background": "light"
     },
     "output_type": "display_data"
    },
    {
     "data": {
      "text/plain": [
       "KNeighborsClassifier(n_neighbors=8)"
      ]
     },
     "execution_count": 12,
     "metadata": {},
     "output_type": "execute_result"
    }
   ],
   "source": [
    "#sentiment with appending vectors\n",
    "get_accuracy_with_confusion_matrix(train,y,test,testY,CountVectorizer(ngram_range=(1,2),binary=True,max_features=200),KNeighborsClassifier(n_neighbors=8),nump=True,senti=\"add\")"
   ]
  },
  {
   "cell_type": "code",
   "execution_count": null,
   "metadata": {},
   "outputs": [],
   "source": []
  }
 ],
 "metadata": {
  "kernelspec": {
   "display_name": "Python 3",
   "language": "python",
   "name": "python3"
  },
  "language_info": {
   "codemirror_mode": {
    "name": "ipython",
    "version": 3
   },
   "file_extension": ".py",
   "mimetype": "text/x-python",
   "name": "python",
   "nbconvert_exporter": "python",
   "pygments_lexer": "ipython3",
   "version": "3.7.6"
  }
 },
 "nbformat": 4,
 "nbformat_minor": 4
}
